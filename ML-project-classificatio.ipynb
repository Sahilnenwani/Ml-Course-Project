{
 "cells": [
  {
   "cell_type": "code",
   "execution_count": 3,
   "metadata": {},
   "outputs": [
    {
     "name": "stderr",
     "output_type": "stream",
     "text": [
      "WARNING: Retrying (Retry(total=4, connect=None, read=None, redirect=None, status=None)) after connection broken by 'ProtocolError('Connection aborted.', ConnectionResetError(10054, 'An existing connection was forcibly closed by the remote host', None, 10054, None))': /simple/py4j/\n",
      "WARNING: You are using pip version 21.3.1; however, version 22.2.2 is available.\n",
      "You should consider upgrading via the 'D:\\Summer 2022\\Machine Learning\\Project\\Project-Classifiaction\\ML-project\\Scripts\\python.exe -m pip install --upgrade pip' command.\n"
     ]
    },
    {
     "name": "stdout",
     "output_type": "stream",
     "text": [
      "Collecting pyspark\n",
      "  Downloading pyspark-3.3.0.tar.gz (281.3 MB)\n",
      "  Preparing metadata (setup.py): started\n",
      "  Preparing metadata (setup.py): finished with status 'done'\n",
      "Collecting py4j==0.10.9.5\n",
      "  Downloading py4j-0.10.9.5-py2.py3-none-any.whl (199 kB)\n",
      "Building wheels for collected packages: pyspark\n",
      "  Building wheel for pyspark (setup.py): started\n",
      "  Building wheel for pyspark (setup.py): still running...\n",
      "  Building wheel for pyspark (setup.py): finished with status 'done'\n",
      "  Created wheel for pyspark: filename=pyspark-3.3.0-py2.py3-none-any.whl size=281764027 sha256=4ef5424c42347438ebc1708930026429b8412c73823d3f64de711069cc121724\n",
      "  Stored in directory: c:\\users\\hp\\appdata\\local\\pip\\cache\\wheels\\1d\\27\\68\\1382001655ef41217e1dd34d59aa777612135379bab64279e9\n",
      "Successfully built pyspark\n",
      "Installing collected packages: py4j, pyspark\n",
      "Successfully installed py4j-0.10.9.5 pyspark-3.3.0\n",
      "Collecting pyspark\n",
      "  Downloading pyspark-3.3.0.tar.gz (281.3 MB)\n",
      "  Preparing metadata (setup.py): started\n",
      "  Preparing metadata (setup.py): finished with status 'done'\n",
      "Collecting py4j==0.10.9.5\n",
      "  Using cached py4j-0.10.9.5-py2.py3-none-any.whl (199 kB)\n",
      "Building wheels for collected packages: pyspark\n",
      "  Building wheel for pyspark (setup.py): started\n",
      "  Building wheel for pyspark (setup.py): still running...\n",
      "  Building wheel for pyspark (setup.py): finished with status 'done'\n",
      "  Created wheel for pyspark: filename=pyspark-3.3.0-py2.py3-none-any.whl size=281764027 sha256=ca0aa8f0c87319eae70d627675d76668218291c1d3dbc8adc77f8c77ea92c00a\n",
      "  Stored in directory: c:\\users\\hp\\appdata\\local\\pip\\cache\\wheels\\1d\\27\\68\\1382001655ef41217e1dd34d59aa777612135379bab64279e9\n",
      "Successfully built pyspark\n",
      "Installing collected packages: py4j, pyspark\n",
      "Successfully installed py4j-0.10.9.5 pyspark-3.3.0\n",
      "Note: you may need to restart the kernel to use updated packages.\n"
     ]
    },
    {
     "name": "stderr",
     "output_type": "stream",
     "text": [
      "WARNING: Retrying (Retry(total=4, connect=None, read=None, redirect=None, status=None)) after connection broken by 'ProtocolError('Connection aborted.', ConnectionResetError(10054, 'An existing connection was forcibly closed by the remote host', None, 10054, None))': /simple/py4j/\n",
      "WARNING: You are using pip version 21.3.1; however, version 22.2.2 is available.\n",
      "You should consider upgrading via the 'd:\\Summer 2022\\Machine Learning\\Project\\Project-Classifiaction\\ML-project\\Scripts\\python.exe -m pip install --upgrade pip' command.\n"
     ]
    }
   ],
   "source": [
    "pip install pyspark"
   ]
  },
  {
   "cell_type": "code",
   "execution_count": 9,
   "metadata": {},
   "outputs": [],
   "source": [
    "from pyspark.sql import SparkSession"
   ]
  },
  {
   "cell_type": "code",
   "execution_count": null,
   "metadata": {},
   "outputs": [],
   "source": []
  },
  {
   "cell_type": "code",
   "execution_count": 10,
   "metadata": {},
   "outputs": [],
   "source": [
    "spark = SparkSession.builder.appName(\"ml-cls\").getOrCreate() "
   ]
  },
  {
   "cell_type": "code",
   "execution_count": 6,
   "metadata": {},
   "outputs": [],
   "source": [
    "df = spark.read.csv(\"./diabetes.csv\",inferSchema=True, header = True)"
   ]
  },
  {
   "cell_type": "code",
   "execution_count": 12,
   "metadata": {},
   "outputs": [
    {
     "name": "stdout",
     "output_type": "stream",
     "text": [
      "root\n",
      " |-- preg: integer (nullable = true)\n",
      " |-- glucose: integer (nullable = true)\n",
      " |-- bp_diastolic: integer (nullable = true)\n",
      " |-- skin_triceps: integer (nullable = true)\n",
      " |-- insulin: integer (nullable = true)\n",
      " |-- bmi: double (nullable = true)\n",
      " |-- pedigree: double (nullable = true)\n",
      " |-- age: integer (nullable = true)\n",
      " |-- label: integer (nullable = true)\n",
      "\n"
     ]
    }
   ],
   "source": [
    "df.printSchema()"
   ]
  },
  {
   "cell_type": "code",
   "execution_count": 13,
   "metadata": {},
   "outputs": [
    {
     "name": "stdout",
     "output_type": "stream",
     "text": [
      "(768, 9)\n"
     ]
    }
   ],
   "source": [
    "print((df.count(), len(df.columns)))"
   ]
  },
  {
   "cell_type": "code",
   "execution_count": 14,
   "metadata": {},
   "outputs": [
    {
     "data": {
      "text/plain": [
       "500"
      ]
     },
     "execution_count": 14,
     "metadata": {},
     "output_type": "execute_result"
    }
   ],
   "source": [
    "df.filter(df.label==0).count()"
   ]
  },
  {
   "cell_type": "code",
   "execution_count": 15,
   "metadata": {},
   "outputs": [
    {
     "name": "stdout",
     "output_type": "stream",
     "text": [
      "+----+-------+------------+------------+-------+---+--------+---+-----+\n",
      "|preg|glucose|bp_diastolic|skin_triceps|insulin|bmi|pedigree|age|label|\n",
      "+----+-------+------------+------------+-------+---+--------+---+-----+\n",
      "|   0|      0|           0|           0|      0|  0|       0|  0|    0|\n",
      "+----+-------+------------+------------+-------+---+--------+---+-----+\n",
      "\n"
     ]
    }
   ],
   "source": [
    "from pyspark.sql.functions import isnull, when, count, col\n",
    "df.select([count(when(isnull(c),c)).alias(c) for c in df.columns]).show()"
   ]
  },
  {
   "cell_type": "code",
   "execution_count": 11,
   "metadata": {},
   "outputs": [
    {
     "name": "stdout",
     "output_type": "stream",
     "text": [
      "Collecting seabornNote: you may need to restart the kernel to use updated packages.\n",
      "\n",
      "  Downloading seaborn-0.11.2-py3-none-any.whl (292 kB)\n",
      "Collecting matplotlib>=2.2\n",
      "  Downloading matplotlib-3.5.2-cp38-cp38-win_amd64.whl (7.2 MB)\n",
      "Collecting pandas>=0.23\n",
      "  Downloading pandas-1.4.3-cp38-cp38-win_amd64.whl (10.6 MB)\n",
      "Collecting scipy>=1.0\n",
      "  Downloading scipy-1.9.0-cp38-cp38-win_amd64.whl (38.6 MB)\n",
      "Collecting numpy>=1.15\n",
      "  Downloading numpy-1.23.1-cp38-cp38-win_amd64.whl (14.7 MB)\n",
      "Requirement already satisfied: pyparsing>=2.2.1 in d:\\summer 2022\\machine learning\\project\\project-classifiaction\\ml-project\\lib\\site-packages (from matplotlib>=2.2->seaborn) (3.0.9)\n",
      "Collecting fonttools>=4.22.0\n",
      "  Downloading fonttools-4.34.4-py3-none-any.whl (944 kB)\n",
      "Collecting kiwisolver>=1.0.1\n",
      "  Downloading kiwisolver-1.4.4-cp38-cp38-win_amd64.whl (55 kB)\n",
      "Collecting pillow>=6.2.0\n",
      "  Downloading Pillow-9.2.0-cp38-cp38-win_amd64.whl (3.3 MB)\n",
      "Collecting cycler>=0.10\n",
      "  Downloading cycler-0.11.0-py3-none-any.whl (6.4 kB)\n",
      "Requirement already satisfied: packaging>=20.0 in d:\\summer 2022\\machine learning\\project\\project-classifiaction\\ml-project\\lib\\site-packages (from matplotlib>=2.2->seaborn) (21.3)\n",
      "Requirement already satisfied: python-dateutil>=2.7 in d:\\summer 2022\\machine learning\\project\\project-classifiaction\\ml-project\\lib\\site-packages (from matplotlib>=2.2->seaborn) (2.8.2)\n",
      "Collecting pytz>=2020.1\n",
      "  Downloading pytz-2022.1-py2.py3-none-any.whl (503 kB)\n",
      "Requirement already satisfied: six>=1.5 in d:\\summer 2022\\machine learning\\project\\project-classifiaction\\ml-project\\lib\\site-packages (from python-dateutil>=2.7->matplotlib>=2.2->seaborn) (1.16.0)\n",
      "Installing collected packages: pytz, pillow, numpy, kiwisolver, fonttools, cycler, scipy, pandas, matplotlib, seaborn\n",
      "Successfully installed cycler-0.11.0 fonttools-4.34.4 kiwisolver-1.4.4 matplotlib-3.5.2 numpy-1.23.1 pandas-1.4.3 pillow-9.2.0 pytz-2022.1 scipy-1.9.0 seaborn-0.11.2\n"
     ]
    },
    {
     "name": "stderr",
     "output_type": "stream",
     "text": [
      "WARNING: You are using pip version 21.3.1; however, version 22.2.2 is available.\n",
      "You should consider upgrading via the 'd:\\Summer 2022\\Machine Learning\\Project\\Project-Classifiaction\\ML-project\\Scripts\\python.exe -m pip install --upgrade pip' command.\n"
     ]
    }
   ],
   "source": [
    "pip install seaborn"
   ]
  },
  {
   "cell_type": "code",
   "execution_count": 16,
   "metadata": {},
   "outputs": [],
   "source": [
    "import seaborn as sns"
   ]
  },
  {
   "cell_type": "code",
   "execution_count": 17,
   "metadata": {},
   "outputs": [
    {
     "data": {
      "text/plain": [
       "<AxesSubplot:>"
      ]
     },
     "execution_count": 17,
     "metadata": {},
     "output_type": "execute_result"
    },
    {
     "data": {
      "image/png": "[encoded data removed]",
      "text/plain": [
       "<Figure size 432x288 with 2 Axes>"
      ]
     },
     "metadata": {
      "needs_background": "light"
     },
     "output_type": "display_data"
    }
   ],
   "source": [
    "sns.heatmap(df.toPandas().corr(), annot = True)"
   ]
  },
  {
   "cell_type": "code",
   "execution_count": 18,
   "metadata": {},
   "outputs": [
    {
     "name": "stdout",
     "output_type": "stream",
     "text": [
      "+----+-------+-------+----+--------+---+-----+\n",
      "|preg|glucose|insulin| bmi|pedigree|age|label|\n",
      "+----+-------+-------+----+--------+---+-----+\n",
      "|   6|    148|      0|33.6|   0.627| 50|    1|\n",
      "|   1|     85|      0|26.6|   0.351| 31|    0|\n",
      "|   8|    183|      0|23.3|   0.672| 32|    1|\n",
      "|   1|     89|     94|28.1|   0.167| 21|    0|\n",
      "|   0|    137|    168|43.1|   2.288| 33|    1|\n",
      "+----+-------+-------+----+--------+---+-----+\n",
      "only showing top 5 rows\n",
      "\n"
     ]
    }
   ],
   "source": [
    "df = df.drop('skin_triceps')\n",
    "df = df.drop('bp_diastolic')\n",
    "df.show(5)"
   ]
  },
  {
   "cell_type": "code",
   "execution_count": 15,
   "metadata": {},
   "outputs": [
    {
     "name": "stdout",
     "output_type": "stream",
     "text": [
      "+----+-------+-------+----+--------+---+\n",
      "|preg|glucose|insulin| bmi|pedigree|age|\n",
      "+----+-------+-------+----+--------+---+\n",
      "|   6|    148|      0|33.6|   0.627| 50|\n",
      "|   1|     85|      0|26.6|   0.351| 31|\n",
      "|   8|    183|      0|23.3|   0.672| 32|\n",
      "|   1|     89|     94|28.1|   0.167| 21|\n",
      "|   0|    137|    168|43.1|   2.288| 33|\n",
      "|   5|    116|      0|25.6|   0.201| 30|\n",
      "|   3|     78|     88|31.0|   0.248| 26|\n",
      "|  10|    115|      0|35.3|   0.134| 29|\n",
      "|   2|    197|    543|30.5|   0.158| 53|\n",
      "|   8|    125|      0| 0.0|   0.232| 54|\n",
      "|   4|    110|      0|37.6|   0.191| 30|\n",
      "|  10|    168|      0|38.0|   0.537| 34|\n",
      "|  10|    139|      0|27.1|   1.441| 57|\n",
      "|   1|    189|    846|30.1|   0.398| 59|\n",
      "|   5|    166|    175|25.8|   0.587| 51|\n",
      "|   7|    100|      0|30.0|   0.484| 32|\n",
      "|   0|    118|    230|45.8|   0.551| 31|\n",
      "|   7|    107|      0|29.6|   0.254| 31|\n",
      "|   1|    103|     83|43.3|   0.183| 33|\n",
      "|   1|    115|     96|34.6|   0.529| 32|\n",
      "+----+-------+-------+----+--------+---+\n",
      "only showing top 20 rows\n",
      "\n"
     ]
    }
   ],
   "source": [
    "x = df.drop('label')\n",
    "x.show()"
   ]
  },
  {
   "cell_type": "code",
   "execution_count": 16,
   "metadata": {},
   "outputs": [],
   "source": [
    "from pyspark.ml.feature import VectorAssembler"
   ]
  },
  {
   "cell_type": "code",
   "execution_count": 17,
   "metadata": {},
   "outputs": [
    {
     "name": "stdout",
     "output_type": "stream",
     "text": [
      "+----+-------+-------+----+--------+---+-----+---------------------------------+\n",
      "|preg|glucose|insulin|bmi |pedigree|age|label|features                         |\n",
      "+----+-------+-------+----+--------+---+-----+---------------------------------+\n",
      "|6   |148    |0      |33.6|0.627   |50 |1    |[6.0,148.0,0.0,33.6,0.627,50.0]  |\n",
      "|1   |85     |0      |26.6|0.351   |31 |0    |[1.0,85.0,0.0,26.6,0.351,31.0]   |\n",
      "|8   |183    |0      |23.3|0.672   |32 |1    |[8.0,183.0,0.0,23.3,0.672,32.0]  |\n",
      "|1   |89     |94     |28.1|0.167   |21 |0    |[1.0,89.0,94.0,28.1,0.167,21.0]  |\n",
      "|0   |137    |168    |43.1|2.288   |33 |1    |[0.0,137.0,168.0,43.1,2.288,33.0]|\n",
      "|5   |116    |0      |25.6|0.201   |30 |0    |[5.0,116.0,0.0,25.6,0.201,30.0]  |\n",
      "|3   |78     |88     |31.0|0.248   |26 |1    |[3.0,78.0,88.0,31.0,0.248,26.0]  |\n",
      "|10  |115    |0      |35.3|0.134   |29 |0    |[10.0,115.0,0.0,35.3,0.134,29.0] |\n",
      "|2   |197    |543    |30.5|0.158   |53 |1    |[2.0,197.0,543.0,30.5,0.158,53.0]|\n",
      "|8   |125    |0      |0.0 |0.232   |54 |1    |[8.0,125.0,0.0,0.0,0.232,54.0]   |\n",
      "|4   |110    |0      |37.6|0.191   |30 |0    |[4.0,110.0,0.0,37.6,0.191,30.0]  |\n",
      "|10  |168    |0      |38.0|0.537   |34 |1    |[10.0,168.0,0.0,38.0,0.537,34.0] |\n",
      "|10  |139    |0      |27.1|1.441   |57 |0    |[10.0,139.0,0.0,27.1,1.441,57.0] |\n",
      "|1   |189    |846    |30.1|0.398   |59 |1    |[1.0,189.0,846.0,30.1,0.398,59.0]|\n",
      "|5   |166    |175    |25.8|0.587   |51 |1    |[5.0,166.0,175.0,25.8,0.587,51.0]|\n",
      "|7   |100    |0      |30.0|0.484   |32 |1    |[7.0,100.0,0.0,30.0,0.484,32.0]  |\n",
      "|0   |118    |230    |45.8|0.551   |31 |1    |[0.0,118.0,230.0,45.8,0.551,31.0]|\n",
      "|7   |107    |0      |29.6|0.254   |31 |1    |[7.0,107.0,0.0,29.6,0.254,31.0]  |\n",
      "|1   |103    |83     |43.3|0.183   |33 |0    |[1.0,103.0,83.0,43.3,0.183,33.0] |\n",
      "|1   |115    |96     |34.6|0.529   |32 |1    |[1.0,115.0,96.0,34.6,0.529,32.0] |\n",
      "+----+-------+-------+----+--------+---+-----+---------------------------------+\n",
      "only showing top 20 rows\n",
      "\n"
     ]
    }
   ],
   "source": [
    "assembler = VectorAssembler(inputCols=x.columns, outputCol='features')\n",
    "transformed_data = assembler.transform(df)\n",
    "transformed_data.show(truncate=False)"
   ]
  },
  {
   "cell_type": "code",
   "execution_count": 18,
   "metadata": {},
   "outputs": [],
   "source": [
    "#split the data\n",
    "(x_train,x_test) = transformed_data.randomSplit([0.8,0.2])"
   ]
  },
  {
   "cell_type": "code",
   "execution_count": 19,
   "metadata": {},
   "outputs": [],
   "source": [
    "from pyspark.ml.classification import DecisionTreeClassifier\n",
    "clf = DecisionTreeClassifier(featuresCol = 'features', labelCol = 'label', maxDepth = 3 )"
   ]
  },
  {
   "cell_type": "code",
   "execution_count": 20,
   "metadata": {},
   "outputs": [],
   "source": [
    "model = clf.fit(x_train)"
   ]
  },
  {
   "cell_type": "code",
   "execution_count": 21,
   "metadata": {},
   "outputs": [
    {
     "name": "stdout",
     "output_type": "stream",
     "text": [
      "+-------+-------+----+--------+---+-----+----------+\n",
      "|glucose|insulin| bmi|pedigree|age|label|prediction|\n",
      "+-------+-------+----+--------+---+-----+----------+\n",
      "|     74|     36|27.8|   0.269| 22|    0|       0.0|\n",
      "|     84|     66|35.8|   0.545| 21|    0|       0.0|\n",
      "|     86|      0|35.8|   0.238| 25|    0|       0.0|\n",
      "|     91|      0|32.4|   0.601| 27|    0|       0.0|\n",
      "|     94|      0| 0.0|   0.256| 25|    0|       0.0|\n",
      "+-------+-------+----+--------+---+-----+----------+\n",
      "only showing top 5 rows\n",
      "\n"
     ]
    }
   ],
   "source": [
    "predictions = model.transform(x_test)\n",
    "predictions.select('glucose', 'insulin', 'bmi', 'pedigree', 'age', 'label', 'prediction').show(5)"
   ]
  },
  {
   "cell_type": "code",
   "execution_count": 22,
   "metadata": {},
   "outputs": [
    {
     "name": "stdout",
     "output_type": "stream",
     "text": [
      "+-------+-------+----+--------+---+-----+----------+\n",
      "|glucose|insulin| bmi|pedigree|age|label|prediction|\n",
      "+-------+-------+----+--------+---+-----+----------+\n",
      "|     74|     36|27.8|   0.269| 22|    0|       0.0|\n",
      "|     84|     66|35.8|   0.545| 21|    0|       0.0|\n",
      "|     86|      0|35.8|   0.238| 25|    0|       0.0|\n",
      "|     91|      0|32.4|   0.601| 27|    0|       0.0|\n",
      "|     94|      0| 0.0|   0.256| 25|    0|       0.0|\n",
      "|     99|      0|25.0|   0.253| 22|    0|       0.0|\n",
      "|    101|      0|21.0|   0.252| 21|    0|       0.0|\n",
      "|    101|      0|35.7|   0.198| 26|    0|       0.0|\n",
      "|    102|     78|40.6|   0.496| 21|    0|       0.0|\n",
      "|    104|     64|33.6|    0.51| 22|    1|       0.0|\n",
      "|    104|    116|27.8|   0.454| 23|    0|       0.0|\n",
      "|    107|      0|45.3|   0.686| 24|    0|       0.0|\n",
      "|    107|     74|36.6|   0.757| 25|    1|       0.0|\n",
      "|    109|      0|32.5|   0.855| 38|    1|       0.0|\n",
      "|    111|      0|24.6|    0.66| 31|    0|       0.0|\n",
      "|    114|    285|44.2|   0.167| 27|    0|       0.0|\n",
      "|    118|     89| 0.0|   1.731| 21|    0|       0.0|\n",
      "|    127|    210|36.3|   0.804| 23|    0|       0.0|\n",
      "|    137|    168|43.1|   2.288| 33|    1|       1.0|\n",
      "|    139|    210|22.1|   0.207| 21|    0|       0.0|\n",
      "+-------+-------+----+--------+---+-----+----------+\n",
      "only showing top 20 rows\n",
      "\n"
     ]
    }
   ],
   "source": [
    "predictions.select('glucose', 'insulin', 'bmi', 'pedigree', 'age', 'label', 'prediction').show()"
   ]
  },
  {
   "cell_type": "code",
   "execution_count": 23,
   "metadata": {},
   "outputs": [
    {
     "name": "stdout",
     "output_type": "stream",
     "text": [
      "+-----+----------+-----+\n",
      "|label|prediction|count|\n",
      "+-----+----------+-----+\n",
      "|    1|       0.0|   26|\n",
      "|    0|       0.0|   91|\n",
      "|    1|       1.0|   21|\n",
      "|    0|       1.0|   11|\n",
      "+-----+----------+-----+\n",
      "\n"
     ]
    }
   ],
   "source": [
    "predictions.groupBy('label', 'prediction').count().show()"
   ]
  },
  {
   "cell_type": "code",
   "execution_count": 24,
   "metadata": {},
   "outputs": [],
   "source": [
    "# calculate the elements of the confusion matrix\n",
    "TN = predictions.filter('prediction = 0 AND label = prediction').count()\n",
    "TP = predictions.filter('prediction = 1 AND label = prediction').count()\n",
    "FN = predictions.filter('prediction = 0 AND label <> prediction').count()\n",
    "FP = predictions.filter('prediction = 1 AND label <> prediction').count()"
   ]
  },
  {
   "cell_type": "code",
   "execution_count": 25,
   "metadata": {},
   "outputs": [
    {
     "name": "stdout",
     "output_type": "stream",
     "text": [
      "n accuracy: 0.752\n",
      "n precision: 0.656\n",
      "n recall: 0.447\n"
     ]
    }
   ],
   "source": [
    "accuracy = (TN + TP) / (TN + TP + FN +FP)\n",
    "precision = TP / (TP + FP)\n",
    "recall = TP/ (TP + FN)\n",
    "\n",
    "print('n accuracy: %0.3f' % accuracy)\n",
    "print('n precision: %0.3f' % precision)\n",
    "print('n recall: %0.3f' % recall)"
   ]
  },
  {
   "cell_type": "code",
   "execution_count": 26,
   "metadata": {},
   "outputs": [],
   "source": [
    "from pyspark.ml.classification import LogisticRegression\n",
    "clf = LogisticRegression(featuresCol = 'features', labelCol = 'label', maxIter = 10 )\n"
   ]
  },
  {
   "cell_type": "code",
   "execution_count": 27,
   "metadata": {},
   "outputs": [],
   "source": [
    "model = clf.fit(x_train)"
   ]
  },
  {
   "cell_type": "code",
   "execution_count": 28,
   "metadata": {},
   "outputs": [
    {
     "name": "stdout",
     "output_type": "stream",
     "text": [
      "+-------+-------+----+--------+---+-----+----------+\n",
      "|glucose|insulin| bmi|pedigree|age|label|prediction|\n",
      "+-------+-------+----+--------+---+-----+----------+\n",
      "|     74|     36|27.8|   0.269| 22|    0|       0.0|\n",
      "|     84|     66|35.8|   0.545| 21|    0|       0.0|\n",
      "|     86|      0|35.8|   0.238| 25|    0|       0.0|\n",
      "|     91|      0|32.4|   0.601| 27|    0|       0.0|\n",
      "|     94|      0| 0.0|   0.256| 25|    0|       0.0|\n",
      "+-------+-------+----+--------+---+-----+----------+\n",
      "only showing top 5 rows\n",
      "\n"
     ]
    }
   ],
   "source": [
    "predictions = model.transform(x_test)\n",
    "predictions.select('glucose', 'insulin', 'bmi', 'pedigree', 'age', 'label', 'prediction').show(5)"
   ]
  },
  {
   "cell_type": "code",
   "execution_count": 29,
   "metadata": {},
   "outputs": [
    {
     "name": "stdout",
     "output_type": "stream",
     "text": [
      "+-------+-------+----+--------+---+-----+----------+\n",
      "|glucose|insulin| bmi|pedigree|age|label|prediction|\n",
      "+-------+-------+----+--------+---+-----+----------+\n",
      "|     74|     36|27.8|   0.269| 22|    0|       0.0|\n",
      "|     84|     66|35.8|   0.545| 21|    0|       0.0|\n",
      "|     86|      0|35.8|   0.238| 25|    0|       0.0|\n",
      "|     91|      0|32.4|   0.601| 27|    0|       0.0|\n",
      "|     94|      0| 0.0|   0.256| 25|    0|       0.0|\n",
      "|     99|      0|25.0|   0.253| 22|    0|       0.0|\n",
      "|    101|      0|21.0|   0.252| 21|    0|       0.0|\n",
      "|    101|      0|35.7|   0.198| 26|    0|       0.0|\n",
      "|    102|     78|40.6|   0.496| 21|    0|       0.0|\n",
      "|    104|     64|33.6|    0.51| 22|    1|       0.0|\n",
      "|    104|    116|27.8|   0.454| 23|    0|       0.0|\n",
      "|    107|      0|45.3|   0.686| 24|    0|       0.0|\n",
      "|    107|     74|36.6|   0.757| 25|    1|       0.0|\n",
      "|    109|      0|32.5|   0.855| 38|    1|       0.0|\n",
      "|    111|      0|24.6|    0.66| 31|    0|       0.0|\n",
      "|    114|    285|44.2|   0.167| 27|    0|       0.0|\n",
      "|    118|     89| 0.0|   1.731| 21|    0|       0.0|\n",
      "|    127|    210|36.3|   0.804| 23|    0|       0.0|\n",
      "|    137|    168|43.1|   2.288| 33|    1|       1.0|\n",
      "|    139|    210|22.1|   0.207| 21|    0|       0.0|\n",
      "+-------+-------+----+--------+---+-----+----------+\n",
      "only showing top 20 rows\n",
      "\n"
     ]
    }
   ],
   "source": [
    "predictions.select('glucose', 'insulin', 'bmi', 'pedigree', 'age', 'label', 'prediction').show()"
   ]
  },
  {
   "cell_type": "code",
   "execution_count": 30,
   "metadata": {},
   "outputs": [
    {
     "name": "stdout",
     "output_type": "stream",
     "text": [
      "+-----+----------+-----+\n",
      "|label|prediction|count|\n",
      "+-----+----------+-----+\n",
      "|    1|       0.0|   23|\n",
      "|    0|       0.0|   90|\n",
      "|    1|       1.0|   24|\n",
      "|    0|       1.0|   12|\n",
      "+-----+----------+-----+\n",
      "\n"
     ]
    }
   ],
   "source": [
    "predictions.groupBy('label', 'prediction').count().show()"
   ]
  },
  {
   "cell_type": "code",
   "execution_count": 31,
   "metadata": {},
   "outputs": [],
   "source": [
    "# calculate the elements of the confusion matrix\n",
    "TN = predictions.filter('prediction = 0 AND label = prediction').count()\n",
    "TP = predictions.filter('prediction = 1 AND label = prediction').count()\n",
    "FN = predictions.filter('prediction = 0 AND label <> prediction').count()\n",
    "FP = predictions.filter('prediction = 1 AND label <> prediction').count()"
   ]
  },
  {
   "cell_type": "code",
   "execution_count": 32,
   "metadata": {},
   "outputs": [
    {
     "name": "stdout",
     "output_type": "stream",
     "text": [
      "n accuracy: 0.765\n",
      "n precision: 0.667\n",
      "n recall: 0.511\n"
     ]
    }
   ],
   "source": [
    "accuracy_Logistic = (TN + TP) / (TN + TP + FN +FP)\n",
    "precision_Logistic = TP / (TP + FP)\n",
    "recall_Logistic = TP/ (TP + FN)\n",
    "\n",
    "print('n accuracy: %0.3f' % accuracy_Logistic)\n",
    "print('n precision: %0.3f' % precision_Logistic)\n",
    "print('n recall: %0.3f' % recall_Logistic)"
   ]
  },
  {
   "cell_type": "code",
   "execution_count": 33,
   "metadata": {},
   "outputs": [],
   "source": [
    "from pyspark.ml.classification import RandomForestClassifier\n",
    "clf = RandomForestClassifier(featuresCol = 'features', labelCol = 'label', maxDepth = 5 )"
   ]
  },
  {
   "cell_type": "code",
   "execution_count": 34,
   "metadata": {},
   "outputs": [],
   "source": [
    "model = clf.fit(x_train)"
   ]
  },
  {
   "cell_type": "code",
   "execution_count": 35,
   "metadata": {},
   "outputs": [
    {
     "name": "stdout",
     "output_type": "stream",
     "text": [
      "+-------+-------+----+--------+---+-----+----------+\n",
      "|glucose|insulin| bmi|pedigree|age|label|prediction|\n",
      "+-------+-------+----+--------+---+-----+----------+\n",
      "|     74|     36|27.8|   0.269| 22|    0|       0.0|\n",
      "|     84|     66|35.8|   0.545| 21|    0|       0.0|\n",
      "|     86|      0|35.8|   0.238| 25|    0|       0.0|\n",
      "|     91|      0|32.4|   0.601| 27|    0|       0.0|\n",
      "|     94|      0| 0.0|   0.256| 25|    0|       0.0|\n",
      "+-------+-------+----+--------+---+-----+----------+\n",
      "only showing top 5 rows\n",
      "\n"
     ]
    }
   ],
   "source": [
    "predictions = model.transform(x_test)\n",
    "predictions.select('glucose', 'insulin', 'bmi', 'pedigree', 'age', 'label', 'prediction').show(5)"
   ]
  },
  {
   "cell_type": "code",
   "execution_count": 36,
   "metadata": {},
   "outputs": [
    {
     "name": "stdout",
     "output_type": "stream",
     "text": [
      "+-------+-------+----+--------+---+-----+----------+\n",
      "|glucose|insulin| bmi|pedigree|age|label|prediction|\n",
      "+-------+-------+----+--------+---+-----+----------+\n",
      "|     74|     36|27.8|   0.269| 22|    0|       0.0|\n",
      "|     84|     66|35.8|   0.545| 21|    0|       0.0|\n",
      "|     86|      0|35.8|   0.238| 25|    0|       0.0|\n",
      "|     91|      0|32.4|   0.601| 27|    0|       0.0|\n",
      "|     94|      0| 0.0|   0.256| 25|    0|       0.0|\n",
      "|     99|      0|25.0|   0.253| 22|    0|       0.0|\n",
      "|    101|      0|21.0|   0.252| 21|    0|       0.0|\n",
      "|    101|      0|35.7|   0.198| 26|    0|       0.0|\n",
      "|    102|     78|40.6|   0.496| 21|    0|       0.0|\n",
      "|    104|     64|33.6|    0.51| 22|    1|       0.0|\n",
      "|    104|    116|27.8|   0.454| 23|    0|       0.0|\n",
      "|    107|      0|45.3|   0.686| 24|    0|       0.0|\n",
      "|    107|     74|36.6|   0.757| 25|    1|       0.0|\n",
      "|    109|      0|32.5|   0.855| 38|    1|       0.0|\n",
      "|    111|      0|24.6|    0.66| 31|    0|       0.0|\n",
      "|    114|    285|44.2|   0.167| 27|    0|       0.0|\n",
      "|    118|     89| 0.0|   1.731| 21|    0|       0.0|\n",
      "|    127|    210|36.3|   0.804| 23|    0|       0.0|\n",
      "|    137|    168|43.1|   2.288| 33|    1|       1.0|\n",
      "|    139|    210|22.1|   0.207| 21|    0|       0.0|\n",
      "+-------+-------+----+--------+---+-----+----------+\n",
      "only showing top 20 rows\n",
      "\n"
     ]
    }
   ],
   "source": [
    "predictions.select('glucose', 'insulin', 'bmi', 'pedigree', 'age', 'label', 'prediction').show()"
   ]
  },
  {
   "cell_type": "code",
   "execution_count": 37,
   "metadata": {},
   "outputs": [
    {
     "name": "stdout",
     "output_type": "stream",
     "text": [
      "+-----+----------+-----+\n",
      "|label|prediction|count|\n",
      "+-----+----------+-----+\n",
      "|    1|       0.0|   22|\n",
      "|    0|       0.0|   90|\n",
      "|    1|       1.0|   25|\n",
      "|    0|       1.0|   12|\n",
      "+-----+----------+-----+\n",
      "\n"
     ]
    }
   ],
   "source": [
    "predictions.groupBy('label', 'prediction').count().show()"
   ]
  },
  {
   "cell_type": "code",
   "execution_count": 38,
   "metadata": {},
   "outputs": [],
   "source": [
    "# calculate the elements of the confusion matrix\n",
    "TN = predictions.filter('prediction = 0 AND label = prediction').count()\n",
    "TP = predictions.filter('prediction = 1 AND label = prediction').count()\n",
    "FN = predictions.filter('prediction = 0 AND label <> prediction').count()\n",
    "FP = predictions.filter('prediction = 1 AND label <> prediction').count()"
   ]
  },
  {
   "cell_type": "code",
   "execution_count": 39,
   "metadata": {},
   "outputs": [
    {
     "name": "stdout",
     "output_type": "stream",
     "text": [
      "n accuracy: 0.772\n",
      "n precision: 0.676\n",
      "n recall: 0.532\n"
     ]
    }
   ],
   "source": [
    "accuracy_RandomForestClassifier = (TN + TP) / (TN + TP + FN +FP)\n",
    "precision_RandomForestClassifier = TP / (TP + FP)\n",
    "recall_RandomForestClassifier = TP/ (TP + FN)\n",
    "\n",
    "print('n accuracy: %0.3f' % accuracy_RandomForestClassifier)\n",
    "print('n precision: %0.3f' % precision_RandomForestClassifier)\n",
    "print('n recall: %0.3f' % recall_RandomForestClassifier)"
   ]
  },
  {
   "cell_type": "code",
   "execution_count": 40,
   "metadata": {},
   "outputs": [
    {
     "name": "stdout",
     "output_type": "stream",
     "text": [
      "LogisticRegression\n",
      "n accuracy: 0.765\n",
      "n precision: 0.667\n",
      "n recall: 0.511\n",
      "------------------------------------\n",
      "DecisionTree\n",
      "n accuracy: 0.752\n",
      "n precision: 0.656\n",
      "n recall: 0.447\n",
      "------------------------------------\n",
      "RandomForest\n",
      "n accuracy: 0.772\n",
      "n precision: 0.676\n",
      "n recall: 0.532\n"
     ]
    },
    {
     "ename": "",
     "evalue": "",
     "output_type": "error",
     "traceback": [
      "\u001b[1;31mThe Kernel crashed while executing code in the the current cell or a previous cell. Please review the code in the cell(s) to identify a possible cause of the failure. Click <a href='https://aka.ms/vscodeJupyterKernelCrash'>here</a> for more info. View Jupyter <a href='command:jupyter.viewOutput'>log</a> for further details."
     ]
    }
   ],
   "source": [
    "print(\"LogisticRegression\")\n",
    "print('n accuracy: %0.3f' % accuracy_Logistic)\n",
    "print('n precision: %0.3f' % precision_Logistic)\n",
    "print('n recall: %0.3f' % recall_Logistic)\n",
    "print('------------------------------------')\n",
    "print(\"DecisionTree\")\n",
    "print('n accuracy: %0.3f' % accuracy)\n",
    "print('n precision: %0.3f' % precision)\n",
    "print('n recall: %0.3f' % recall)\n",
    "print('------------------------------------')\n",
    "print(\"RandomForest\")\n",
    "print('n accuracy: %0.3f' % accuracy_RandomForestClassifier)\n",
    "print('n precision: %0.3f' % precision_RandomForestClassifier)\n",
    "print('n recall: %0.3f' % recall_RandomForestClassifier)"
   ]
  },
  {
   "cell_type": "code",
   "execution_count": 2,
   "metadata": {},
   "outputs": [
    {
     "name": "stdout",
     "output_type": "stream",
     "text": [
      "Collecting sklearn\n",
      "  Using cached sklearn-0.0-py2.py3-none-any.whl\n",
      "Collecting scikit-learn\n",
      "  Downloading scikit_learn-1.1.2-cp38-cp38-win_amd64.whl (7.3 MB)\n",
      "Collecting threadpoolctl>=2.0.0\n",
      "  Downloading threadpoolctl-3.1.0-py3-none-any.whl (14 kB)\n",
      "Requirement already satisfied: scipy>=1.3.2 in d:\\summer 2022\\machine learning\\project\\project-classifiaction\\ml-project\\lib\\site-packages (from scikit-learn->sklearn) (1.9.0)\n",
      "Requirement already satisfied: numpy>=1.17.3 in d:\\summer 2022\\machine learning\\project\\project-classifiaction\\ml-project\\lib\\site-packages (from scikit-learn->sklearn) (1.23.1)\n",
      "Collecting joblib>=1.0.0\n",
      "  Downloading joblib-1.1.0-py2.py3-none-any.whl (306 kB)\n",
      "Installing collected packages: threadpoolctl, joblib, scikit-learn, sklearn\n",
      "Successfully installed joblib-1.1.0 scikit-learn-1.1.2 sklearn-0.0 threadpoolctl-3.1.0\n",
      "Note: you may need to restart the kernel to use updated packages.\n"
     ]
    },
    {
     "name": "stderr",
     "output_type": "stream",
     "text": [
      "WARNING: You are using pip version 21.3.1; however, version 22.2.2 is available.\n",
      "You should consider upgrading via the 'd:\\Summer 2022\\Machine Learning\\Project\\Project-Classifiaction\\ML-project\\Scripts\\python.exe -m pip install --upgrade pip' command.\n"
     ]
    }
   ],
   "source": [
    "pip install sklearn"
   ]
  },
  {
   "cell_type": "code",
   "execution_count": 3,
   "metadata": {},
   "outputs": [],
   "source": [
    "import numpy as np\n",
    "import matplotlib.pyplot as plt\n",
    "import pandas as pd\n",
    "import sklearn"
   ]
  },
  {
   "cell_type": "code",
   "execution_count": 19,
   "metadata": {},
   "outputs": [],
   "source": [
    "url = \"D:\\Summer 2022\\Machine Learning\\Project\\Project-Classifiaction\\diabetes.csv\"\n",
    "\n",
    "dataset = pd.read_csv(url)"
   ]
  },
  {
   "cell_type": "code",
   "execution_count": 20,
   "metadata": {},
   "outputs": [
    {
     "data": {
      "text/html": [
       "<div>\n",
       "<style scoped>\n",
       "    .dataframe tbody tr th:only-of-type {\n",
       "        vertical-align: middle;\n",
       "    }\n",
       "\n",
       "    .dataframe tbody tr th {\n",
       "        vertical-align: top;\n",
       "    }\n",
       "\n",
       "    .dataframe thead th {\n",
       "        text-align: right;\n",
       "    }\n",
       "</style>\n",
       "<table border=\"1\" class=\"dataframe\">\n",
       "  <thead>\n",
       "    <tr style=\"text-align: right;\">\n",
       "      <th></th>\n",
       "      <th>preg</th>\n",
       "      <th>glucose</th>\n",
       "      <th>bp_diastolic</th>\n",
       "      <th>skin_triceps</th>\n",
       "      <th>insulin</th>\n",
       "      <th>bmi</th>\n",
       "      <th>pedigree</th>\n",
       "      <th>age</th>\n",
       "      <th>label</th>\n",
       "    </tr>\n",
       "  </thead>\n",
       "  <tbody>\n",
       "    <tr>\n",
       "      <th>0</th>\n",
       "      <td>6</td>\n",
       "      <td>148</td>\n",
       "      <td>72</td>\n",
       "      <td>35</td>\n",
       "      <td>0</td>\n",
       "      <td>33.6</td>\n",
       "      <td>0.627</td>\n",
       "      <td>50</td>\n",
       "      <td>1</td>\n",
       "    </tr>\n",
       "    <tr>\n",
       "      <th>1</th>\n",
       "      <td>1</td>\n",
       "      <td>85</td>\n",
       "      <td>66</td>\n",
       "      <td>29</td>\n",
       "      <td>0</td>\n",
       "      <td>26.6</td>\n",
       "      <td>0.351</td>\n",
       "      <td>31</td>\n",
       "      <td>0</td>\n",
       "    </tr>\n",
       "    <tr>\n",
       "      <th>2</th>\n",
       "      <td>8</td>\n",
       "      <td>183</td>\n",
       "      <td>64</td>\n",
       "      <td>0</td>\n",
       "      <td>0</td>\n",
       "      <td>23.3</td>\n",
       "      <td>0.672</td>\n",
       "      <td>32</td>\n",
       "      <td>1</td>\n",
       "    </tr>\n",
       "    <tr>\n",
       "      <th>3</th>\n",
       "      <td>1</td>\n",
       "      <td>89</td>\n",
       "      <td>66</td>\n",
       "      <td>23</td>\n",
       "      <td>94</td>\n",
       "      <td>28.1</td>\n",
       "      <td>0.167</td>\n",
       "      <td>21</td>\n",
       "      <td>0</td>\n",
       "    </tr>\n",
       "    <tr>\n",
       "      <th>4</th>\n",
       "      <td>0</td>\n",
       "      <td>137</td>\n",
       "      <td>40</td>\n",
       "      <td>35</td>\n",
       "      <td>168</td>\n",
       "      <td>43.1</td>\n",
       "      <td>2.288</td>\n",
       "      <td>33</td>\n",
       "      <td>1</td>\n",
       "    </tr>\n",
       "  </tbody>\n",
       "</table>\n",
       "</div>"
      ],
      "text/plain": [
       "   preg  glucose  bp_diastolic  skin_triceps  insulin   bmi  pedigree  age  \\\n",
       "0     6      148            72            35        0  33.6     0.627   50   \n",
       "1     1       85            66            29        0  26.6     0.351   31   \n",
       "2     8      183            64             0        0  23.3     0.672   32   \n",
       "3     1       89            66            23       94  28.1     0.167   21   \n",
       "4     0      137            40            35      168  43.1     2.288   33   \n",
       "\n",
       "   label  \n",
       "0      1  \n",
       "1      0  \n",
       "2      1  \n",
       "3      0  \n",
       "4      1  "
      ]
     },
     "execution_count": 20,
     "metadata": {},
     "output_type": "execute_result"
    }
   ],
   "source": [
    "dataset.head()"
   ]
  },
  {
   "cell_type": "code",
   "execution_count": 21,
   "metadata": {},
   "outputs": [],
   "source": [
    "X = dataset.iloc[:, :-1].values\n",
    "y = dataset.iloc[:, 8].values"
   ]
  },
  {
   "cell_type": "code",
   "execution_count": 22,
   "metadata": {},
   "outputs": [],
   "source": [
    "from sklearn.model_selection import train_test_split\n",
    "X_train, X_test, y_train, y_test = train_test_split(X, y, test_size=0.20)"
   ]
  },
  {
   "cell_type": "code",
   "execution_count": 23,
   "metadata": {},
   "outputs": [],
   "source": [
    "from sklearn.preprocessing import StandardScaler\n",
    "scaler = StandardScaler()\n",
    "scaler.fit(X_train)\n",
    "\n",
    "X_train = scaler.transform(X_train)\n",
    "X_test = scaler.transform(X_test)"
   ]
  },
  {
   "cell_type": "code",
   "execution_count": 24,
   "metadata": {},
   "outputs": [
    {
     "data": {
      "text/html": [
       "<style>#sk-container-id-1 {color: black;background-color: white;}#sk-container-id-1 pre{padding: 0;}#sk-container-id-1 div.sk-toggleable {background-color: white;}#sk-container-id-1 label.sk-toggleable__label {cursor: pointer;display: block;width: 100%;margin-bottom: 0;padding: 0.3em;box-sizing: border-box;text-align: center;}#sk-container-id-1 label.sk-toggleable__label-arrow:before {content: \"▸\";float: left;margin-right: 0.25em;color: #696969;}#sk-container-id-1 label.sk-toggleable__label-arrow:hover:before {color: black;}#sk-container-id-1 div.sk-estimator:hover label.sk-toggleable__label-arrow:before {color: black;}#sk-container-id-1 div.sk-toggleable__content {max-height: 0;max-width: 0;overflow: hidden;text-align: left;background-color: #f0f8ff;}#sk-container-id-1 div.sk-toggleable__content pre {margin: 0.2em;color: black;border-radius: 0.25em;background-color: #f0f8ff;}#sk-container-id-1 input.sk-toggleable__control:checked~div.sk-toggleable__content {max-height: 200px;max-width: 100%;overflow: auto;}#sk-container-id-1 input.sk-toggleable__control:checked~label.sk-toggleable__label-arrow:before {content: \"▾\";}#sk-container-id-1 div.sk-estimator input.sk-toggleable__control:checked~label.sk-toggleable__label {background-color: #d4ebff;}#sk-container-id-1 div.sk-label input.sk-toggleable__control:checked~label.sk-toggleable__label {background-color: #d4ebff;}#sk-container-id-1 input.sk-hidden--visually {border: 0;clip: rect(1px 1px 1px 1px);clip: rect(1px, 1px, 1px, 1px);height: 1px;margin: -1px;overflow: hidden;padding: 0;position: absolute;width: 1px;}#sk-container-id-1 div.sk-estimator {font-family: monospace;background-color: #f0f8ff;border: 1px dotted black;border-radius: 0.25em;box-sizing: border-box;margin-bottom: 0.5em;}#sk-container-id-1 div.sk-estimator:hover {background-color: #d4ebff;}#sk-container-id-1 div.sk-parallel-item::after {content: \"\";width: 100%;border-bottom: 1px solid gray;flex-grow: 1;}#sk-container-id-1 div.sk-label:hover label.sk-toggleable__label {background-color: #d4ebff;}#sk-container-id-1 div.sk-serial::before {content: \"\";position: absolute;border-left: 1px solid gray;box-sizing: border-box;top: 0;bottom: 0;left: 50%;z-index: 0;}#sk-container-id-1 div.sk-serial {display: flex;flex-direction: column;align-items: center;background-color: white;padding-right: 0.2em;padding-left: 0.2em;position: relative;}#sk-container-id-1 div.sk-item {position: relative;z-index: 1;}#sk-container-id-1 div.sk-parallel {display: flex;align-items: stretch;justify-content: center;background-color: white;position: relative;}#sk-container-id-1 div.sk-item::before, #sk-container-id-1 div.sk-parallel-item::before {content: \"\";position: absolute;border-left: 1px solid gray;box-sizing: border-box;top: 0;bottom: 0;left: 50%;z-index: -1;}#sk-container-id-1 div.sk-parallel-item {display: flex;flex-direction: column;z-index: 1;position: relative;background-color: white;}#sk-container-id-1 div.sk-parallel-item:first-child::after {align-self: flex-end;width: 50%;}#sk-container-id-1 div.sk-parallel-item:last-child::after {align-self: flex-start;width: 50%;}#sk-container-id-1 div.sk-parallel-item:only-child::after {width: 0;}#sk-container-id-1 div.sk-dashed-wrapped {border: 1px dashed gray;margin: 0 0.4em 0.5em 0.4em;box-sizing: border-box;padding-bottom: 0.4em;background-color: white;}#sk-container-id-1 div.sk-label label {font-family: monospace;font-weight: bold;display: inline-block;line-height: 1.2em;}#sk-container-id-1 div.sk-label-container {text-align: center;}#sk-container-id-1 div.sk-container {/* jupyter's `normalize.less` sets `[hidden] { display: none; }` but bootstrap.min.css set `[hidden] { display: none !important; }` so we also need the `!important` here to be able to override the default hidden behavior on the sphinx rendered scikit-learn.org. See: https://github.com/scikit-learn/scikit-learn/issues/21755 */display: inline-block !important;position: relative;}#sk-container-id-1 div.sk-text-repr-fallback {display: none;}</style><div id=\"sk-container-id-1\" class=\"sk-top-container\"><div class=\"sk-text-repr-fallback\"><pre>KNeighborsClassifier()</pre><b>In a Jupyter environment, please rerun this cell to show the HTML representation or trust the notebook. <br />On GitHub, the HTML representation is unable to render, please try loading this page with nbviewer.org.</b></div><div class=\"sk-container\" hidden><div class=\"sk-item\"><div class=\"sk-estimator sk-toggleable\"><input class=\"sk-toggleable__control sk-hidden--visually\" id=\"sk-estimator-id-1\" type=\"checkbox\" checked><label for=\"sk-estimator-id-1\" class=\"sk-toggleable__label sk-toggleable__label-arrow\">KNeighborsClassifier</label><div class=\"sk-toggleable__content\"><pre>KNeighborsClassifier()</pre></div></div></div></div></div>"
      ],
      "text/plain": [
       "KNeighborsClassifier()"
      ]
     },
     "execution_count": 24,
     "metadata": {},
     "output_type": "execute_result"
    }
   ],
   "source": [
    "from sklearn.neighbors import KNeighborsClassifier\n",
    "classifier = KNeighborsClassifier(n_neighbors=5)\n",
    "classifier.fit(X_train, y_train)"
   ]
  },
  {
   "cell_type": "code",
   "execution_count": 25,
   "metadata": {},
   "outputs": [],
   "source": [
    "y_pred = classifier.predict(X_test)"
   ]
  },
  {
   "cell_type": "code",
   "execution_count": 26,
   "metadata": {},
   "outputs": [
    {
     "name": "stdout",
     "output_type": "stream",
     "text": [
      "[[83 13]\n",
      " [26 32]]\n",
      "              precision    recall  f1-score   support\n",
      "\n",
      "           0       0.76      0.86      0.81        96\n",
      "           1       0.71      0.55      0.62        58\n",
      "\n",
      "    accuracy                           0.75       154\n",
      "   macro avg       0.74      0.71      0.72       154\n",
      "weighted avg       0.74      0.75      0.74       154\n",
      "\n"
     ]
    }
   ],
   "source": [
    "from sklearn.metrics import classification_report, confusion_matrix\n",
    "print(confusion_matrix(y_test, y_pred))\n",
    "print(classification_report(y_test, y_pred))"
   ]
  },
  {
   "cell_type": "code",
   "execution_count": null,
   "metadata": {},
   "outputs": [],
   "source": []
  },
  {
   "cell_type": "code",
   "execution_count": null,
   "metadata": {},
   "outputs": [],
   "source": []
  },
  {
   "cell_type": "code",
   "execution_count": null,
   "metadata": {},
   "outputs": [],
   "source": []
  },
  {
   "cell_type": "code",
   "execution_count": null,
   "metadata": {},
   "outputs": [],
   "source": []
  },
  {
   "cell_type": "code",
   "execution_count": null,
   "metadata": {},
   "outputs": [],
   "source": []
  },
  {
   "cell_type": "code",
   "execution_count": null,
   "metadata": {},
   "outputs": [],
   "source": []
  },
  {
   "cell_type": "code",
   "execution_count": null,
   "metadata": {},
   "outputs": [],
   "source": []
  },
  {
   "cell_type": "code",
   "execution_count": null,
   "metadata": {},
   "outputs": [],
   "source": []
  },
  {
   "cell_type": "code",
   "execution_count": null,
   "metadata": {},
   "outputs": [],
   "source": []
  },
  {
   "cell_type": "code",
   "execution_count": null,
   "metadata": {},
   "outputs": [],
   "source": []
  }
 ],
 "metadata": {
  "kernelspec": {
   "display_name": "Python 3.8.5 ('ML-project': venv)",
   "language": "python",
   "name": "python3"
  },
  "language_info": {
   "codemirror_mode": {
    "name": "ipython",
    "version": 3
   },
   "file_extension": ".py",
   "mimetype": "text/x-python",
   "name": "python",
   "nbconvert_exporter": "python",
   "pygments_lexer": "ipython3",
   "version": "3.8.5"
  },
  "orig_nbformat": 4,
  "vscode": {
   "interpreter": {
    "hash": "6e7bb68b14766853d2bf0cca5dad83f19c05dd25b56272da3839eb62e4916a77"
   }
  }
 },
 "nbformat": 4,
 "nbformat_minor": 2
}
